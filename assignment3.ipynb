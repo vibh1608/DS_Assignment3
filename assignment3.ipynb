{
 "cells": [
  {
   "cell_type": "code",
   "execution_count": 14,
   "metadata": {
    "scrolled": true
   },
   "outputs": [
    {
     "name": "stdout",
     "output_type": "stream",
     "text": [
      "113\n"
     ]
    }
   ],
   "source": [
    "#implementing own myreduce function\n",
    "def myreduce(f,*args):\n",
    "    if len(args) == 0:\n",
    "        return None\n",
    "    result = args[0]\n",
    "    for i in range(1,len(args)):\n",
    "        result = f(result,args[i])\n",
    "    return result\n",
    "\n",
    "#initialising the list\n",
    "lst =[47,11,42,13]\n",
    "\n",
    "#calling myreduce function and printing the result\n",
    "print(myreduce(lambda x,y: x+y,*lst))\n",
    "    "
   ]
  },
  {
   "cell_type": "code",
   "execution_count": 18,
   "metadata": {},
   "outputs": [
    {
     "name": "stdout",
     "output_type": "stream",
     "text": [
      "[42, 10, 32, 46, 22, 2]\n"
     ]
    }
   ],
   "source": [
    "#First let's make a function for even number \n",
    "def even_check(num):\n",
    "    if num%2 ==0:\n",
    "        return True\n",
    "    \n",
    "#implementing own myfilter function\n",
    "def myfilter(f,*args):\n",
    "    if len(args) == 0:\n",
    "        return None\n",
    "    result = []\n",
    "    for i in range(1,len(args)):\n",
    "        if even_check(args[i]):\n",
    "            result.append(args[i])   \n",
    "    return result\n",
    "\n",
    "#initialising the list\n",
    "lst =[47,11,42,13,25,10,32,46,22,3,2]\n",
    "\n",
    "#calling myfilter function\n",
    "new_lst = myfilter(even_check,*lst)\n",
    "\n",
    "#printing the list\n",
    "print(new_lst)"
   ]
  },
  {
   "cell_type": "code",
   "execution_count": 20,
   "metadata": {},
   "outputs": [
    {
     "name": "stdout",
     "output_type": "stream",
     "text": [
      "['A', 'C', 'A', 'D', 'G', 'I', 'L', 'D']\n"
     ]
    }
   ],
   "source": [
    "#Implement List comprehensions to produce the following lists\n",
    "\n",
    "#initialising list-1\n",
    "lst = []\n",
    "\n",
    "#appending elements in the list\n",
    "lst.append('A')\n",
    "lst.append('C')\n",
    "lst.append('A')\n",
    "lst.append('D')\n",
    "lst.append('G')\n",
    "lst.append('I')\n",
    "lst.append('L')\n",
    "lst.append('D')\n",
    "\n",
    "#printing the list\n",
    "print(lst)"
   ]
  },
  {
   "cell_type": "code",
   "execution_count": 23,
   "metadata": {},
   "outputs": [
    {
     "name": "stdout",
     "output_type": "stream",
     "text": [
      "['x', 'xx', 'xxx', 'xxxx', 'y', 'yy', 'yyy', 'yyyy', 'z', 'zz', 'zzz', 'zzzz']\n"
     ]
    }
   ],
   "source": [
    "#initialising list-2\n",
    "lst2 = []\n",
    "\n",
    "#appending elements in the list\n",
    "letter = 'x'\n",
    "for i in range(1,5):\n",
    "    lst2.append(letter*i)\n",
    "letter = 'y'\n",
    "for i in range(1,5):\n",
    "    lst2.append(letter*i)\n",
    "letter = 'z'\n",
    "for i in range(1,5):\n",
    "    lst2.append(letter*i)\n",
    "    \n",
    "#printing the list\n",
    "print(lst2)"
   ]
  },
  {
   "cell_type": "code",
   "execution_count": 24,
   "metadata": {},
   "outputs": [
    {
     "name": "stdout",
     "output_type": "stream",
     "text": [
      "['x', 'y', 'z', 'xx', 'yy', 'zz', 'xxx', 'yyy', 'zzz', 'xxxx', 'yyyy', 'zzzz']\n"
     ]
    }
   ],
   "source": [
    "#list-3\n",
    "lst3 = []\n",
    "\n",
    "letter1 = 'x'\n",
    "letter2 = 'y'\n",
    "letter3 = 'z'\n",
    "\n",
    "#appending elements in the list\n",
    "for i in range(1,5):\n",
    "    lst3.append(letter1*i)\n",
    "    lst3.append(letter2*i)\n",
    "    lst3.append(letter3*i)\n",
    "\n",
    "#printing the list\n",
    "print(lst3)"
   ]
  },
  {
   "cell_type": "code",
   "execution_count": 27,
   "metadata": {},
   "outputs": [
    {
     "name": "stdout",
     "output_type": "stream",
     "text": [
      "[[2], [3], [4], [3], [4], [5], [4], [5], [6]]\n"
     ]
    }
   ],
   "source": [
    "#list-4\n",
    "lst4 = []\n",
    "\n",
    "#appending elements in the list\n",
    "for i in range(1,4):\n",
    "    for j in range(i,i+3):\n",
    "        lst4.append([j+1])\n",
    "\n",
    "#printing the list\n",
    "print(lst4)"
   ]
  },
  {
   "cell_type": "code",
   "execution_count": 29,
   "metadata": {},
   "outputs": [
    {
     "name": "stdout",
     "output_type": "stream",
     "text": [
      "[[2, 3, 4, 5], [3, 4, 5, 6], [4, 5, 6, 7], [5, 6, 7, 8]]\n"
     ]
    }
   ],
   "source": [
    "#list-5\n",
    "lst5 = []\n",
    "\n",
    "#appending elements in the list\n",
    "for i in range(1,5):\n",
    "    l = []\n",
    "    for j in range(i,i+4):\n",
    "        l.append(j+1)\n",
    "    lst5.append(l)\n",
    "    \n",
    "#printing the list\n",
    "print(lst5)"
   ]
  },
  {
   "cell_type": "code",
   "execution_count": 30,
   "metadata": {},
   "outputs": [
    {
     "name": "stdout",
     "output_type": "stream",
     "text": [
      "[(1, 1), (2, 1), (3, 1), (1, 2), (2, 2), (3, 2), (1, 3), (2, 3), (3, 3)]\n"
     ]
    }
   ],
   "source": [
    "#list -6\n",
    "lst6 = []\n",
    "\n",
    "#appending elements in the list\n",
    "for i in range(1,4):\n",
    "    for j in range(1,4):\n",
    "        lst6.append((j,i))\n",
    "    \n",
    "#printing the list\n",
    "print(lst6)"
   ]
  },
  {
   "cell_type": "code",
   "execution_count": 31,
   "metadata": {},
   "outputs": [
    {
     "name": "stdout",
     "output_type": "stream",
     "text": [
      "acadgild\n"
     ]
    }
   ],
   "source": [
    "#implementing longestword function to find longest word\n",
    "def longestWord(lst):\n",
    "    lw=''\n",
    "    for i in range(1,len(lst)):\n",
    "        if len(lst[i])>len(lw):\n",
    "            lw=lst[i]\n",
    "    return lw\n",
    "\n",
    "#creating list of words\n",
    "lst = ['ad','xyz','acadgild','india']\n",
    "\n",
    "#calling longestword function to find longest word\n",
    "longword = longestWord(lst)\n",
    "\n",
    "#printing the result\n",
    "print(longword)"
   ]
  },
  {
   "cell_type": "code",
   "execution_count": null,
   "metadata": {},
   "outputs": [],
   "source": []
  }
 ],
 "metadata": {
  "kernelspec": {
   "display_name": "Python 3",
   "language": "python",
   "name": "python3"
  },
  "language_info": {
   "codemirror_mode": {
    "name": "ipython",
    "version": 3
   },
   "file_extension": ".py",
   "mimetype": "text/x-python",
   "name": "python",
   "nbconvert_exporter": "python",
   "pygments_lexer": "ipython3",
   "version": "3.7.0"
  }
 },
 "nbformat": 4,
 "nbformat_minor": 2
}
